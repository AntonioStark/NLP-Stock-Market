{
 "cells": [
  {
   "cell_type": "markdown",
   "metadata": {},
   "source": [
    "# NLP for Stock Market Prediction\n",
    "This code attempts to solve a Kaggle challenge that tries to predict stock market prices from news headers. A walk-through of the code can be found in this article: https://medium.com/analytics-vidhya/e2861d4a45a0\n",
    "\n",
    "Kaggle challenge: https://www.kaggle.com/aaron7sun/stocknews\n",
    "\n",
    "Kaggle article: https://www.kaggle.com/rahulvarma9595/nlp-for-stock-market-predictions"
   ]
  },
  {
   "cell_type": "markdown",
   "metadata": {},
   "source": [
    "## Import packages and libraries"
   ]
  },
  {
   "cell_type": "code",
   "execution_count": 1,
   "metadata": {},
   "outputs": [],
   "source": [
    "# import packages\n",
    "import pandas as pd\n",
    "import numpy as np\n",
    "import string\n",
    "import time\n",
    "import matplotlib.pyplot as plt\n",
    "\n",
    "from nltk.tokenize import word_tokenize\n",
    "from nltk.corpus import stopwords\n",
    "from nltk.stem import PorterStemmer\n",
    "from nltk.stem import WordNetLemmatizer\n",
    "from gensim.models import Word2Vec, KeyedVectors\n",
    "from sklearn.metrics import accuracy_score, confusion_matrix, roc_auc_score, roc_curve, auc\n",
    "from xgboost.sklearn import XGBClassifier\n",
    "from sklearn.ensemble import RandomForestClassifier\n",
    "from sklearn.linear_model import LogisticRegression\n",
    "from sklearn.neural_network import MLPClassifier\n",
    "from sklearn.svm import SVC"
   ]
  },
  {
   "cell_type": "markdown",
   "metadata": {},
   "source": [
    "## Import data"
   ]
  },
  {
   "cell_type": "code",
   "execution_count": 2,
   "metadata": {},
   "outputs": [],
   "source": [
    "pd.set_option('display.max_columns',7)"
   ]
  },
  {
   "cell_type": "code",
   "execution_count": 3,
   "metadata": {
    "scrolled": false
   },
   "outputs": [
    {
     "name": "stdout",
     "output_type": "stream",
     "text": [
      "data is 1989 data points with 27 features\n"
     ]
    },
    {
     "data": {
      "text/html": [
       "<div>\n",
       "<style scoped>\n",
       "    .dataframe tbody tr th:only-of-type {\n",
       "        vertical-align: middle;\n",
       "    }\n",
       "\n",
       "    .dataframe tbody tr th {\n",
       "        vertical-align: top;\n",
       "    }\n",
       "\n",
       "    .dataframe thead th {\n",
       "        text-align: right;\n",
       "    }\n",
       "</style>\n",
       "<table border=\"1\" class=\"dataframe\">\n",
       "  <thead>\n",
       "    <tr style=\"text-align: right;\">\n",
       "      <th></th>\n",
       "      <th>Date</th>\n",
       "      <th>Label</th>\n",
       "      <th>Top1</th>\n",
       "      <th>...</th>\n",
       "      <th>Top23</th>\n",
       "      <th>Top24</th>\n",
       "      <th>Top25</th>\n",
       "    </tr>\n",
       "  </thead>\n",
       "  <tbody>\n",
       "    <tr>\n",
       "      <th>0</th>\n",
       "      <td>08/08/2008</td>\n",
       "      <td>0</td>\n",
       "      <td>b\"Georgia 'downs two Russian warplanes' as cou...</td>\n",
       "      <td>...</td>\n",
       "      <td>b'Indian shoe manufactory  - And again in a se...</td>\n",
       "      <td>b'Visitors Suffering from Mental Illnesses Ban...</td>\n",
       "      <td>b\"No Help for Mexico's Kidnapping Surge\"</td>\n",
       "    </tr>\n",
       "    <tr>\n",
       "      <th>1</th>\n",
       "      <td>11/08/2008</td>\n",
       "      <td>1</td>\n",
       "      <td>b'Why wont America and Nato help us? If they w...</td>\n",
       "      <td>...</td>\n",
       "      <td>b'Perhaps *the* question about the Georgia - R...</td>\n",
       "      <td>b'Russia is so much better at war'</td>\n",
       "      <td>b\"So this is what it's come to: trading sex fo...</td>\n",
       "    </tr>\n",
       "    <tr>\n",
       "      <th>2</th>\n",
       "      <td>12/08/2008</td>\n",
       "      <td>0</td>\n",
       "      <td>b'Remember that adorable 9-year-old who sang a...</td>\n",
       "      <td>...</td>\n",
       "      <td>b'Christopher King argues that the US and NATO...</td>\n",
       "      <td>b'America: The New Mexico?'</td>\n",
       "      <td>b\"BBC NEWS | Asia-Pacific | Extinction 'by man...</td>\n",
       "    </tr>\n",
       "    <tr>\n",
       "      <th>3</th>\n",
       "      <td>13/08/2008</td>\n",
       "      <td>0</td>\n",
       "      <td>b' U.S. refuses Israel weapons to attack Iran:...</td>\n",
       "      <td>...</td>\n",
       "      <td>b' Quarter of Russians blame U.S. for conflict...</td>\n",
       "      <td>b'Georgian president  says US military will ta...</td>\n",
       "      <td>b'2006: Nobel laureate Aleksander Solzhenitsyn...</td>\n",
       "    </tr>\n",
       "    <tr>\n",
       "      <th>4</th>\n",
       "      <td>14/08/2008</td>\n",
       "      <td>1</td>\n",
       "      <td>b'All the experts admit that we should legalis...</td>\n",
       "      <td>...</td>\n",
       "      <td>b'Russia: World  \"can forget about\" Georgia\\'s...</td>\n",
       "      <td>b'Darfur rebels accuse Sudan of mounting major...</td>\n",
       "      <td>b'Philippines : Peace Advocate say Muslims nee...</td>\n",
       "    </tr>\n",
       "  </tbody>\n",
       "</table>\n",
       "<p>5 rows × 27 columns</p>\n",
       "</div>"
      ],
      "text/plain": [
       "         Date  Label                                               Top1  ...  \\\n",
       "0  08/08/2008      0  b\"Georgia 'downs two Russian warplanes' as cou...  ...   \n",
       "1  11/08/2008      1  b'Why wont America and Nato help us? If they w...  ...   \n",
       "2  12/08/2008      0  b'Remember that adorable 9-year-old who sang a...  ...   \n",
       "3  13/08/2008      0  b' U.S. refuses Israel weapons to attack Iran:...  ...   \n",
       "4  14/08/2008      1  b'All the experts admit that we should legalis...  ...   \n",
       "\n",
       "                                               Top23  \\\n",
       "0  b'Indian shoe manufactory  - And again in a se...   \n",
       "1  b'Perhaps *the* question about the Georgia - R...   \n",
       "2  b'Christopher King argues that the US and NATO...   \n",
       "3  b' Quarter of Russians blame U.S. for conflict...   \n",
       "4  b'Russia: World  \"can forget about\" Georgia\\'s...   \n",
       "\n",
       "                                               Top24  \\\n",
       "0  b'Visitors Suffering from Mental Illnesses Ban...   \n",
       "1                 b'Russia is so much better at war'   \n",
       "2                        b'America: The New Mexico?'   \n",
       "3  b'Georgian president  says US military will ta...   \n",
       "4  b'Darfur rebels accuse Sudan of mounting major...   \n",
       "\n",
       "                                               Top25  \n",
       "0           b\"No Help for Mexico's Kidnapping Surge\"  \n",
       "1  b\"So this is what it's come to: trading sex fo...  \n",
       "2  b\"BBC NEWS | Asia-Pacific | Extinction 'by man...  \n",
       "3  b'2006: Nobel laureate Aleksander Solzhenitsyn...  \n",
       "4  b'Philippines : Peace Advocate say Muslims nee...  \n",
       "\n",
       "[5 rows x 27 columns]"
      ]
     },
     "execution_count": 3,
     "metadata": {},
     "output_type": "execute_result"
    }
   ],
   "source": [
    "# import data\n",
    "data = pd.read_csv('Combined_News_DJIA.csv')\n",
    "\n",
    "print('data is %d data points with %d features'%(data.shape[0],data.shape[1]))\n",
    "data.head()"
   ]
  },
  {
   "cell_type": "markdown",
   "metadata": {},
   "source": [
    "## Data preprocessing\n",
    "### Data cleaning & tokenization & normalization"
   ]
  },
  {
   "cell_type": "code",
   "execution_count": 4,
   "metadata": {
    "scrolled": false
   },
   "outputs": [
    {
     "name": "stdout",
     "output_type": "stream",
     "text": [
      "Original text:\n",
      "b\"Al-Qa'eda is losing support in Iraq because of a brutal crackdown on activities it regards as un-Islamic - including women buying cucumbers\"\n",
      "\n",
      "Cleaned text:\n",
      "\"Al-Qa'eda is losing support in Iraq because of a brutal crackdown on activities it regards as un-Islamic - including women buying cucumbers\"\n",
      "\n",
      "Punctuations removed:\n",
      "AlQaeda is losing support in Iraq because of a brutal crackdown on activities it regards as unIslamic  including women buying cucumbers\n",
      "\n",
      "Lowercase:\n",
      "alqaeda is losing support in iraq because of a brutal crackdown on activities it regards as unislamic  including women buying cucumbers\n",
      "\n",
      "Tokenized:\n",
      "['alqaeda', 'is', 'losing', 'support', 'in', 'iraq', 'because', 'of', 'a', 'brutal', 'crackdown', 'on', 'activities', 'it', 'regards', 'as', 'unislamic', 'including', 'women', 'buying', 'cucumbers']\n",
      "\n",
      "Replaced numbers:\n",
      "['alqaeda', 'is', 'losing', 'support', 'in', 'iraq', 'because', 'of', 'a', 'brutal', 'crackdown', 'on', 'activities', 'it', 'regards', 'as', 'unislamic', 'including', 'women', 'buying', 'cucumbers']\n",
      "\n",
      "\n",
      "Removed stop words:\n",
      "['alqaeda', 'losing', 'support', 'iraq', 'brutal', 'crackdown', 'activities', 'regards', 'unislamic', 'including', 'women', 'buying', 'cucumbers']\n"
     ]
    }
   ],
   "source": [
    "# data cleaning & tokenization & normalization\n",
    "## create copy of original dataframe\n",
    "dataClean = data.copy()\n",
    "\n",
    "## create set for stopwords as dictionaries are faster\n",
    "stops = set(stopwords.words('english'))\n",
    "\n",
    "# news header you want to test\n",
    "## (2,5) is interesting to see how \"Al-Qa'eda\" gets transferred\n",
    "## (4,3) is interesting to see how numbers are encoded\n",
    "## (2,15) is interesting to see how both numbers ('55') and hyphens ('mega-city') are encoded\n",
    "## (1988,24) gives a bug for replacing numbers and removing stop words\n",
    "tester = (2,5)\n",
    "\n",
    "for i in range(2,data.shape[1]):\n",
    "    if i==tester[1]:\n",
    "        print('Original text:')\n",
    "        print(dataClean.iloc[tester[0],i])\n",
    "    \n",
    "    # data cleaning\n",
    "    ## remove 'b'' at the start and ''' at the end\n",
    "    dataClean.iloc[:,i]=dataClean.iloc[:,i].str.strip(\"b'\")\n",
    "    if i==tester[1]:\n",
    "        print('\\nCleaned text:')\n",
    "        print(dataClean.iloc[tester[0],i])\n",
    "    \n",
    "    ## remove punctuation\n",
    "    dataClean.iloc[:,i]=dataClean.iloc[:,i].str.translate(str.maketrans('', '', string.punctuation))\n",
    "    if i==tester[1]:\n",
    "        print('\\nPunctuations removed:')\n",
    "        print(dataClean.iloc[tester[0],i])\n",
    "        \n",
    "    # normalization\n",
    "    ## make lowercase\n",
    "    dataClean.iloc[:,i]=dataClean.iloc[:,i].str.lower()\n",
    "    if i==tester[1]:\n",
    "        print('\\nLowercase:')\n",
    "        print(dataClean.iloc[tester[0],i])\n",
    "    \n",
    "    # tokenization\n",
    "    ## word_tokenize version (buggy) is below\n",
    "    dataClean.iloc[:,i]=dataClean.iloc[:,i].str.split()\n",
    "    if i==tester[1]:\n",
    "        print('\\nTokenized:')\n",
    "        print(dataClean.iloc[tester[0],i])\n",
    "        \n",
    "    # replace numbers\n",
    "    dataClean.iloc[:,i]=dataClean.iloc[:,i].apply(lambda sent: 'num' if isinstance(sent,float) else ['num' if token.isdigit() else token for token in sent])\n",
    "    if i==tester[1]:\n",
    "        print('\\nReplaced numbers:')\n",
    "        print(dataClean.iloc[tester[0],i])\n",
    "        print()\n",
    "        \n",
    "    # remove stop words\n",
    "    dataClean.iloc[:,i]=dataClean.iloc[:,i].apply(lambda sent: [token for token in sent if token not in stops])\n",
    "    if i==tester[1]:\n",
    "        print('\\nRemoved stop words:')\n",
    "        print(dataClean.iloc[tester[0],i])\n",
    "        "
   ]
  },
  {
   "cell_type": "code",
   "execution_count": 5,
   "metadata": {},
   "outputs": [
    {
     "data": {
      "text/html": [
       "<div>\n",
       "<style scoped>\n",
       "    .dataframe tbody tr th:only-of-type {\n",
       "        vertical-align: middle;\n",
       "    }\n",
       "\n",
       "    .dataframe tbody tr th {\n",
       "        vertical-align: top;\n",
       "    }\n",
       "\n",
       "    .dataframe thead th {\n",
       "        text-align: right;\n",
       "    }\n",
       "</style>\n",
       "<table border=\"1\" class=\"dataframe\">\n",
       "  <thead>\n",
       "    <tr style=\"text-align: right;\">\n",
       "      <th></th>\n",
       "      <th>Date</th>\n",
       "      <th>Label</th>\n",
       "      <th>Top1</th>\n",
       "      <th>...</th>\n",
       "      <th>Top23</th>\n",
       "      <th>Top24</th>\n",
       "      <th>Top25</th>\n",
       "    </tr>\n",
       "  </thead>\n",
       "  <tbody>\n",
       "    <tr>\n",
       "      <th>0</th>\n",
       "      <td>08/08/2008</td>\n",
       "      <td>0</td>\n",
       "      <td>[georgia, downs, two, russian, warplanes, coun...</td>\n",
       "      <td>...</td>\n",
       "      <td>[indian, shoe, manufactory, series, like, work]</td>\n",
       "      <td>[visitors, suffering, mental, illnesses, banne...</td>\n",
       "      <td>[help, mexicos, kidnapping, surge]</td>\n",
       "    </tr>\n",
       "    <tr>\n",
       "      <th>1</th>\n",
       "      <td>11/08/2008</td>\n",
       "      <td>1</td>\n",
       "      <td>[wont, america, nato, help, us, wont, help, us...</td>\n",
       "      <td>...</td>\n",
       "      <td>[perhaps, question, georgia, russia, conflict]</td>\n",
       "      <td>[russia, much, better, war]</td>\n",
       "      <td>[come, trading, sex, food]</td>\n",
       "    </tr>\n",
       "    <tr>\n",
       "      <th>2</th>\n",
       "      <td>12/08/2008</td>\n",
       "      <td>0</td>\n",
       "      <td>[remember, adorable, 9yearold, sang, opening, ...</td>\n",
       "      <td>...</td>\n",
       "      <td>[christopher, king, argues, us, nato, behind, ...</td>\n",
       "      <td>[america, new, mexico]</td>\n",
       "      <td>[bbc, news, asiapacific, extinction, man, clim...</td>\n",
       "    </tr>\n",
       "    <tr>\n",
       "      <th>3</th>\n",
       "      <td>13/08/2008</td>\n",
       "      <td>0</td>\n",
       "      <td>[us, refuses, israel, weapons, attack, iran, r...</td>\n",
       "      <td>...</td>\n",
       "      <td>[quarter, russians, blame, us, conflict, poll]</td>\n",
       "      <td>[georgian, president, says, us, military, take...</td>\n",
       "      <td>[num, nobel, laureate, aleksander, solzhenitsy...</td>\n",
       "    </tr>\n",
       "    <tr>\n",
       "      <th>4</th>\n",
       "      <td>14/08/2008</td>\n",
       "      <td>1</td>\n",
       "      <td>[experts, admit, legalise, drugs]</td>\n",
       "      <td>...</td>\n",
       "      <td>[russia, world, forget, georgias, territorial,...</td>\n",
       "      <td>[darfur, rebels, accuse, sudan, mounting, majo...</td>\n",
       "      <td>[philippines, peace, advocate, say, muslims, n...</td>\n",
       "    </tr>\n",
       "  </tbody>\n",
       "</table>\n",
       "<p>5 rows × 27 columns</p>\n",
       "</div>"
      ],
      "text/plain": [
       "         Date  Label                                               Top1  ...  \\\n",
       "0  08/08/2008      0  [georgia, downs, two, russian, warplanes, coun...  ...   \n",
       "1  11/08/2008      1  [wont, america, nato, help, us, wont, help, us...  ...   \n",
       "2  12/08/2008      0  [remember, adorable, 9yearold, sang, opening, ...  ...   \n",
       "3  13/08/2008      0  [us, refuses, israel, weapons, attack, iran, r...  ...   \n",
       "4  14/08/2008      1                  [experts, admit, legalise, drugs]  ...   \n",
       "\n",
       "                                               Top23  \\\n",
       "0    [indian, shoe, manufactory, series, like, work]   \n",
       "1     [perhaps, question, georgia, russia, conflict]   \n",
       "2  [christopher, king, argues, us, nato, behind, ...   \n",
       "3     [quarter, russians, blame, us, conflict, poll]   \n",
       "4  [russia, world, forget, georgias, territorial,...   \n",
       "\n",
       "                                               Top24  \\\n",
       "0  [visitors, suffering, mental, illnesses, banne...   \n",
       "1                        [russia, much, better, war]   \n",
       "2                             [america, new, mexico]   \n",
       "3  [georgian, president, says, us, military, take...   \n",
       "4  [darfur, rebels, accuse, sudan, mounting, majo...   \n",
       "\n",
       "                                               Top25  \n",
       "0                 [help, mexicos, kidnapping, surge]  \n",
       "1                         [come, trading, sex, food]  \n",
       "2  [bbc, news, asiapacific, extinction, man, clim...  \n",
       "3  [num, nobel, laureate, aleksander, solzhenitsy...  \n",
       "4  [philippines, peace, advocate, say, muslims, n...  \n",
       "\n",
       "[5 rows x 27 columns]"
      ]
     },
     "execution_count": 5,
     "metadata": {},
     "output_type": "execute_result"
    }
   ],
   "source": [
    "dataClean.head()"
   ]
  },
  {
   "cell_type": "markdown",
   "metadata": {},
   "source": [
    "### Stemming, lemmatization, canonicalization"
   ]
  },
  {
   "cell_type": "code",
   "execution_count": 6,
   "metadata": {},
   "outputs": [
    {
     "name": "stdout",
     "output_type": "stream",
     "text": [
      "Original text:\n",
      "b'Russian tanks are moving towards the capital of South Ossetia, which has reportedly been completely destroyed by Georgian artillery fire'\n",
      "\n",
      "Cleaned text:\n",
      "['russian', 'tanks', 'moving', 'towards', 'capital', 'south', 'ossetia', 'reportedly', 'completely', 'destroyed', 'georgian', 'artillery', 'fire']\n",
      "\n",
      "After lemmatization:\n",
      "['russian', 'tank', 'moving', 'towards', 'capital', 'south', 'ossetia', 'reportedly', 'completely', 'destroyed', 'georgian', 'artillery', 'fire']\n",
      "\n",
      "dataNormal:\n"
     ]
    },
    {
     "data": {
      "text/html": [
       "<div>\n",
       "<style scoped>\n",
       "    .dataframe tbody tr th:only-of-type {\n",
       "        vertical-align: middle;\n",
       "    }\n",
       "\n",
       "    .dataframe tbody tr th {\n",
       "        vertical-align: top;\n",
       "    }\n",
       "\n",
       "    .dataframe thead th {\n",
       "        text-align: right;\n",
       "    }\n",
       "</style>\n",
       "<table border=\"1\" class=\"dataframe\">\n",
       "  <thead>\n",
       "    <tr style=\"text-align: right;\">\n",
       "      <th></th>\n",
       "      <th>Date</th>\n",
       "      <th>Label</th>\n",
       "      <th>Top1</th>\n",
       "      <th>...</th>\n",
       "      <th>Top23</th>\n",
       "      <th>Top24</th>\n",
       "      <th>Top25</th>\n",
       "    </tr>\n",
       "  </thead>\n",
       "  <tbody>\n",
       "    <tr>\n",
       "      <th>0</th>\n",
       "      <td>08/08/2008</td>\n",
       "      <td>0</td>\n",
       "      <td>[georgia, down, two, russian, warplane, countr...</td>\n",
       "      <td>...</td>\n",
       "      <td>[indian, shoe, manufactory, series, like, work]</td>\n",
       "      <td>[visitor, suffering, mental, illness, banned, ...</td>\n",
       "      <td>[help, mexico, kidnapping, surge]</td>\n",
       "    </tr>\n",
       "    <tr>\n",
       "      <th>1</th>\n",
       "      <td>11/08/2008</td>\n",
       "      <td>1</td>\n",
       "      <td>[wont, america, nato, help, u, wont, help, u, ...</td>\n",
       "      <td>...</td>\n",
       "      <td>[perhaps, question, georgia, russia, conflict]</td>\n",
       "      <td>[russia, much, better, war]</td>\n",
       "      <td>[come, trading, sex, food]</td>\n",
       "    </tr>\n",
       "    <tr>\n",
       "      <th>2</th>\n",
       "      <td>12/08/2008</td>\n",
       "      <td>0</td>\n",
       "      <td>[remember, adorable, 9yearold, sang, opening, ...</td>\n",
       "      <td>...</td>\n",
       "      <td>[christopher, king, argues, u, nato, behind, g...</td>\n",
       "      <td>[america, new, mexico]</td>\n",
       "      <td>[bbc, news, asiapacific, extinction, man, clim...</td>\n",
       "    </tr>\n",
       "    <tr>\n",
       "      <th>3</th>\n",
       "      <td>13/08/2008</td>\n",
       "      <td>0</td>\n",
       "      <td>[u, refuse, israel, weapon, attack, iran, report]</td>\n",
       "      <td>...</td>\n",
       "      <td>[quarter, russian, blame, u, conflict, poll]</td>\n",
       "      <td>[georgian, president, say, u, military, take, ...</td>\n",
       "      <td>[num, nobel, laureate, aleksander, solzhenitsy...</td>\n",
       "    </tr>\n",
       "    <tr>\n",
       "      <th>4</th>\n",
       "      <td>14/08/2008</td>\n",
       "      <td>1</td>\n",
       "      <td>[expert, admit, legalise, drug]</td>\n",
       "      <td>...</td>\n",
       "      <td>[russia, world, forget, georgia, territorial, ...</td>\n",
       "      <td>[darfur, rebel, accuse, sudan, mounting, major...</td>\n",
       "      <td>[philippine, peace, advocate, say, muslim, nee...</td>\n",
       "    </tr>\n",
       "  </tbody>\n",
       "</table>\n",
       "<p>5 rows × 27 columns</p>\n",
       "</div>"
      ],
      "text/plain": [
       "         Date  Label                                               Top1  ...  \\\n",
       "0  08/08/2008      0  [georgia, down, two, russian, warplane, countr...  ...   \n",
       "1  11/08/2008      1  [wont, america, nato, help, u, wont, help, u, ...  ...   \n",
       "2  12/08/2008      0  [remember, adorable, 9yearold, sang, opening, ...  ...   \n",
       "3  13/08/2008      0  [u, refuse, israel, weapon, attack, iran, report]  ...   \n",
       "4  14/08/2008      1                    [expert, admit, legalise, drug]  ...   \n",
       "\n",
       "                                               Top23  \\\n",
       "0    [indian, shoe, manufactory, series, like, work]   \n",
       "1     [perhaps, question, georgia, russia, conflict]   \n",
       "2  [christopher, king, argues, u, nato, behind, g...   \n",
       "3       [quarter, russian, blame, u, conflict, poll]   \n",
       "4  [russia, world, forget, georgia, territorial, ...   \n",
       "\n",
       "                                               Top24  \\\n",
       "0  [visitor, suffering, mental, illness, banned, ...   \n",
       "1                        [russia, much, better, war]   \n",
       "2                             [america, new, mexico]   \n",
       "3  [georgian, president, say, u, military, take, ...   \n",
       "4  [darfur, rebel, accuse, sudan, mounting, major...   \n",
       "\n",
       "                                               Top25  \n",
       "0                  [help, mexico, kidnapping, surge]  \n",
       "1                         [come, trading, sex, food]  \n",
       "2  [bbc, news, asiapacific, extinction, man, clim...  \n",
       "3  [num, nobel, laureate, aleksander, solzhenitsy...  \n",
       "4  [philippine, peace, advocate, say, muslim, nee...  \n",
       "\n",
       "[5 rows x 27 columns]"
      ]
     },
     "execution_count": 6,
     "metadata": {},
     "output_type": "execute_result"
    }
   ],
   "source": [
    "# Stemming/lemmatization/canonicalization - Frank\n",
    "\n",
    "# do either stemming or lemmatization\n",
    "stemming = False # converted philippines to philippin in (4,25)\n",
    "lemmatization = True # converts to proper words but philippine? (4,25)\n",
    "\n",
    "dataNormal = dataClean.copy()\n",
    "tester = (0,5) \n",
    "print('Original text:')\n",
    "print(data.iloc[tester[0],tester[1]])\n",
    "print('\\nCleaned text:')\n",
    "print(dataClean.iloc[tester[0],tester[1]])\n",
    "\n",
    "if stemming:\n",
    "    porter = PorterStemmer()   \n",
    "    for i in range(2,dataNormal.shape[1]):\n",
    "        dataNormal.iloc[:,i]=dataNormal.iloc[:,i].apply(lambda x: [porter.stem(y) for y in x])\n",
    "    print('\\nAfter stemming:')\n",
    "    print(dataNormal.iloc[tester[0],tester[1]])\n",
    "elif lemmatization:\n",
    "    lemmatizer = WordNetLemmatizer()\n",
    "    for i in range(2,data.shape[1]):\n",
    "        dataNormal.iloc[:,i]=dataNormal.iloc[:,i].apply(lambda x: [lemmatizer.lemmatize(y) for y in x])\n",
    "    print('\\nAfter lemmatization:')\n",
    "    print(dataNormal.iloc[tester[0],tester[1]])\n",
    "        \n",
    "print('\\ndataNormal:')\n",
    "dataNormal.head()"
   ]
  },
  {
   "cell_type": "markdown",
   "metadata": {},
   "source": [
    "## Convert words to vectors\n",
    "### Combine all header words in each date into a single datapoint (flattening)"
   ]
  },
  {
   "cell_type": "code",
   "execution_count": 7,
   "metadata": {},
   "outputs": [
    {
     "name": "stdout",
     "output_type": "stream",
     "text": [
      "dataFlat is 1989 data points with 3 features\n",
      "dataFlat:\n"
     ]
    },
    {
     "data": {
      "text/html": [
       "<div>\n",
       "<style scoped>\n",
       "    .dataframe tbody tr th:only-of-type {\n",
       "        vertical-align: middle;\n",
       "    }\n",
       "\n",
       "    .dataframe tbody tr th {\n",
       "        vertical-align: top;\n",
       "    }\n",
       "\n",
       "    .dataframe thead th {\n",
       "        text-align: right;\n",
       "    }\n",
       "</style>\n",
       "<table border=\"1\" class=\"dataframe\">\n",
       "  <thead>\n",
       "    <tr style=\"text-align: right;\">\n",
       "      <th></th>\n",
       "      <th>Date</th>\n",
       "      <th>Label</th>\n",
       "      <th>Combined</th>\n",
       "    </tr>\n",
       "  </thead>\n",
       "  <tbody>\n",
       "    <tr>\n",
       "      <th>0</th>\n",
       "      <td>08/08/2008</td>\n",
       "      <td>0</td>\n",
       "      <td>[breaking, musharraf, impeached, breaking, mus...</td>\n",
       "    </tr>\n",
       "    <tr>\n",
       "      <th>1</th>\n",
       "      <td>11/08/2008</td>\n",
       "      <td>1</td>\n",
       "      <td>[bush, put, foot, georgian, conflict, bush, pu...</td>\n",
       "    </tr>\n",
       "    <tr>\n",
       "      <th>2</th>\n",
       "      <td>12/08/2008</td>\n",
       "      <td>0</td>\n",
       "      <td>[russia, end, georgia, operation, russia, end,...</td>\n",
       "    </tr>\n",
       "    <tr>\n",
       "      <th>3</th>\n",
       "      <td>13/08/2008</td>\n",
       "      <td>0</td>\n",
       "      <td>[president, ordered, attack, tskhinvali, capit...</td>\n",
       "    </tr>\n",
       "    <tr>\n",
       "      <th>4</th>\n",
       "      <td>14/08/2008</td>\n",
       "      <td>1</td>\n",
       "      <td>[war, south, osetia, num, picture, made, russi...</td>\n",
       "    </tr>\n",
       "  </tbody>\n",
       "</table>\n",
       "</div>"
      ],
      "text/plain": [
       "         Date  Label                                           Combined\n",
       "0  08/08/2008      0  [breaking, musharraf, impeached, breaking, mus...\n",
       "1  11/08/2008      1  [bush, put, foot, georgian, conflict, bush, pu...\n",
       "2  12/08/2008      0  [russia, end, georgia, operation, russia, end,...\n",
       "3  13/08/2008      0  [president, ordered, attack, tskhinvali, capit...\n",
       "4  14/08/2008      1  [war, south, osetia, num, picture, made, russi..."
      ]
     },
     "execution_count": 7,
     "metadata": {},
     "output_type": "execute_result"
    }
   ],
   "source": [
    "dataFlat = dataNormal.iloc[:,0:2].copy()\n",
    "\n",
    "# combine the words in each date into a single datapoint\n",
    "combined = dataNormal.iloc[:,3].values.tolist()\n",
    "\n",
    "for i in range(0,dataNormal.shape[0]):\n",
    "    for j in range (3,dataNormal.shape[1]):\n",
    "        combined[i] += dataNormal.iloc[i,j]\n",
    "\n",
    "dataFlat['Combined'] = combined\n",
    "print('dataFlat is %d data points with %d features'%(dataFlat.shape[0],dataFlat.shape[1]))\n",
    "print('dataFlat:')\n",
    "dataFlat.head()"
   ]
  },
  {
   "cell_type": "markdown",
   "metadata": {},
   "source": [
    "### Implement word2vec model"
   ]
  },
  {
   "cell_type": "code",
   "execution_count": 8,
   "metadata": {},
   "outputs": [
    {
     "name": "stdout",
     "output_type": "stream",
     "text": [
      "W2V model (vocabulary) is 10197 words with 100 dimensions\n",
      "training time: 1.446 seconds\n"
     ]
    }
   ],
   "source": [
    "# create word2vec model\n",
    "## details on parameters, see documentation: https://radimrehurek.com/gensim/models/word2vec.html\n",
    "num_size = 100        # Word vector dimensionality                    \n",
    "num_min_count = 5     # Minimum frequency of a word to be included in dictionary                       \n",
    "num_workers = 4       # Number of threads to run in parallel\n",
    "\n",
    "start_time = time.time()\n",
    "model = Word2Vec(dataFlat['Combined'], size=num_size, min_count=num_min_count, workers=num_workers)\n",
    "end_time = time.time()\n",
    "## save model for future use\n",
    "model.save('w2v-combined-vector-size100-count5-workers4')\n",
    "\n",
    "## print resulting matrix size\n",
    "print('W2V model (vocabulary) is %d words with %d dimensions'%(model.wv.vectors.shape[0],model.wv.vectors.shape[1]))\n",
    "print('training time: %.3f seconds'%(end_time-start_time))"
   ]
  },
  {
   "cell_type": "markdown",
   "metadata": {},
   "source": [
    "### test word2vec model"
   ]
  },
  {
   "cell_type": "code",
   "execution_count": 9,
   "metadata": {
    "scrolled": false
   },
   "outputs": [
    {
     "name": "stdout",
     "output_type": "stream",
     "text": [
      "Top 5 words most similar to 'war':\n",
      "   'humanity': 0.7464\n",
      "   'crime': 0.7451\n",
      "   'civil': 0.7149\n",
      "   'end': 0.7074\n",
      "   'iraq': 0.7050\n",
      "\n",
      "Similarity between 'war' and 'peace': 0.552\n",
      "Similarity between 'war' and 'terror': 0.429\n",
      "Similarity between 'peace' and 'school': 0.201\n"
     ]
    }
   ],
   "source": [
    "# look up most similar words\n",
    "w1 = 'war'\n",
    "topN = 5\n",
    "print('Top %d words most similar to \\'%s\\':'%(topN,w1))\n",
    "topSimWords = model.wv.most_similar(positive=[w1],topn=topN)\n",
    "for i in range(0,len(topSimWords)):\n",
    "    print('   \\'%s\\': %.4f'%(topSimWords[i][0],topSimWords[i][1]))\n",
    "\n",
    "# test similarities between words\n",
    "w1 = 'war'\n",
    "w2 = 'peace'\n",
    "w3 = 'terror'\n",
    "w4 = 'school'\n",
    "print('\\nSimilarity between \\'%s\\' and \\'%s\\': %.3f'%(w1,w2,model.wv.similarity(w1=w1,w2=w2)))\n",
    "print('Similarity between \\'%s\\' and \\'%s\\': %.3f'%(w1,w3,model.wv.similarity(w1=w1,w2=w3)))\n",
    "print('Similarity between \\'%s\\' and \\'%s\\': %.3f'%(w2,w4,model.wv.similarity(w1=w2,w2=w4)))"
   ]
  },
  {
   "cell_type": "markdown",
   "metadata": {},
   "source": [
    "### Create average vector per each date"
   ]
  },
  {
   "cell_type": "code",
   "execution_count": 10,
   "metadata": {
    "scrolled": false
   },
   "outputs": [
    {
     "name": "stdout",
     "output_type": "stream",
     "text": [
      "'words' is a <class 'dict_keys'> of 0 words in the W2V model\n"
     ]
    },
    {
     "name": "stderr",
     "output_type": "stream",
     "text": [
      "//anaconda3/lib/python3.7/site-packages/ipykernel_launcher.py:12: DeprecationWarning: Call to deprecated `__getitem__` (Method will be removed in 4.0.0, use self.wv.__getitem__() instead).\n",
      "  if sys.path[0] == '':\n"
     ]
    },
    {
     "name": "stdout",
     "output_type": "stream",
     "text": [
      "dataVector is 1989 data points with 4 features\n",
      "dataVector:\n"
     ]
    },
    {
     "data": {
      "text/html": [
       "<div>\n",
       "<style scoped>\n",
       "    .dataframe tbody tr th:only-of-type {\n",
       "        vertical-align: middle;\n",
       "    }\n",
       "\n",
       "    .dataframe tbody tr th {\n",
       "        vertical-align: top;\n",
       "    }\n",
       "\n",
       "    .dataframe thead th {\n",
       "        text-align: right;\n",
       "    }\n",
       "</style>\n",
       "<table border=\"1\" class=\"dataframe\">\n",
       "  <thead>\n",
       "    <tr style=\"text-align: right;\">\n",
       "      <th></th>\n",
       "      <th>Date</th>\n",
       "      <th>Label</th>\n",
       "      <th>Combined</th>\n",
       "      <th>Average</th>\n",
       "    </tr>\n",
       "  </thead>\n",
       "  <tbody>\n",
       "    <tr>\n",
       "      <th>0</th>\n",
       "      <td>08/08/2008</td>\n",
       "      <td>0</td>\n",
       "      <td>[breaking, musharraf, impeached, breaking, mus...</td>\n",
       "      <td>[0.7775879, 0.35395986, -0.42836928, 0.3964269...</td>\n",
       "    </tr>\n",
       "    <tr>\n",
       "      <th>1</th>\n",
       "      <td>11/08/2008</td>\n",
       "      <td>1</td>\n",
       "      <td>[bush, put, foot, georgian, conflict, bush, pu...</td>\n",
       "      <td>[0.80388296, 0.36607966, -0.42802638, 0.370769...</td>\n",
       "    </tr>\n",
       "    <tr>\n",
       "      <th>2</th>\n",
       "      <td>12/08/2008</td>\n",
       "      <td>0</td>\n",
       "      <td>[russia, end, georgia, operation, russia, end,...</td>\n",
       "      <td>[0.743821, 0.3863051, -0.46993044, 0.3845966, ...</td>\n",
       "    </tr>\n",
       "    <tr>\n",
       "      <th>3</th>\n",
       "      <td>13/08/2008</td>\n",
       "      <td>0</td>\n",
       "      <td>[president, ordered, attack, tskhinvali, capit...</td>\n",
       "      <td>[0.804978, 0.42803088, -0.4153553, 0.36543703,...</td>\n",
       "    </tr>\n",
       "    <tr>\n",
       "      <th>4</th>\n",
       "      <td>14/08/2008</td>\n",
       "      <td>1</td>\n",
       "      <td>[war, south, osetia, num, picture, made, russi...</td>\n",
       "      <td>[0.69771916, 0.29434574, -0.4121377, 0.3928763...</td>\n",
       "    </tr>\n",
       "  </tbody>\n",
       "</table>\n",
       "</div>"
      ],
      "text/plain": [
       "         Date  Label                                           Combined  \\\n",
       "0  08/08/2008      0  [breaking, musharraf, impeached, breaking, mus...   \n",
       "1  11/08/2008      1  [bush, put, foot, georgian, conflict, bush, pu...   \n",
       "2  12/08/2008      0  [russia, end, georgia, operation, russia, end,...   \n",
       "3  13/08/2008      0  [president, ordered, attack, tskhinvali, capit...   \n",
       "4  14/08/2008      1  [war, south, osetia, num, picture, made, russi...   \n",
       "\n",
       "                                             Average  \n",
       "0  [0.7775879, 0.35395986, -0.42836928, 0.3964269...  \n",
       "1  [0.80388296, 0.36607966, -0.42802638, 0.370769...  \n",
       "2  [0.743821, 0.3863051, -0.46993044, 0.3845966, ...  \n",
       "3  [0.804978, 0.42803088, -0.4153553, 0.36543703,...  \n",
       "4  [0.69771916, 0.29434574, -0.4121377, 0.3928763...  "
      ]
     },
     "execution_count": 10,
     "metadata": {},
     "output_type": "execute_result"
    }
   ],
   "source": [
    "# list of words in the model\n",
    "words = model.wv.vocab.keys()\n",
    "print('\\'words\\' is a %s of %d words in the W2V model'%(type(words),0))\n",
    "\n",
    "averages = [None]*len(dataFlat)\n",
    "\n",
    "for i in range(len(dataFlat)): \n",
    "    #For each row=date (total of 1989)\n",
    "    \n",
    "    # collate all the words in each date that is in the 'words' vocabulary\n",
    "    ## find & save the vector format of that word\n",
    "    words_in_date = [model[word] for word in dataFlat['Combined'][i] if word in words]\n",
    "    \n",
    "    # find the averages of the words in the dates that are also in the W2V model\n",
    "    averages[i] = np.mean(np.array(words_in_date),axis=0)\n",
    "\n",
    "dataVector = dataFlat.copy()\n",
    "dataVector['Average'] = averages\n",
    "print('dataVector is %d data points with %d features'%(dataVector.shape[0],dataVector.shape[1]))\n",
    "print('dataVector:')\n",
    "dataVector.head()"
   ]
  },
  {
   "cell_type": "code",
   "execution_count": 11,
   "metadata": {},
   "outputs": [
    {
     "name": "stdout",
     "output_type": "stream",
     "text": [
      "'testVector' of date 11/08/2008 is a <class 'numpy.ndarray'>, a vector of 100 dimensions\n"
     ]
    }
   ],
   "source": [
    "# test output the average vector for a given date\n",
    "testDate = '11/08/2008'\n",
    "testVector = dataVector.loc[dataVector['Date']==testDate]['Average'].iloc[0]\n",
    "print('\\'testVector\\' of date %s is a %s, a vector of %d dimensions'%(testDate,type(testVector),testVector.size))"
   ]
  },
  {
   "cell_type": "markdown",
   "metadata": {},
   "source": [
    "### Create version of dataframe for modelling & testing"
   ]
  },
  {
   "cell_type": "code",
   "execution_count": 12,
   "metadata": {},
   "outputs": [
    {
     "name": "stdout",
     "output_type": "stream",
     "text": [
      "dataModel is 1989 data points with 102 features\n",
      "dataModel:\n"
     ]
    },
    {
     "data": {
      "text/html": [
       "<div>\n",
       "<style scoped>\n",
       "    .dataframe tbody tr th:only-of-type {\n",
       "        vertical-align: middle;\n",
       "    }\n",
       "\n",
       "    .dataframe tbody tr th {\n",
       "        vertical-align: top;\n",
       "    }\n",
       "\n",
       "    .dataframe thead th {\n",
       "        text-align: right;\n",
       "    }\n",
       "</style>\n",
       "<table border=\"1\" class=\"dataframe\">\n",
       "  <thead>\n",
       "    <tr style=\"text-align: right;\">\n",
       "      <th></th>\n",
       "      <th>Date</th>\n",
       "      <th>Label</th>\n",
       "      <th>0</th>\n",
       "      <th>...</th>\n",
       "      <th>97</th>\n",
       "      <th>98</th>\n",
       "      <th>99</th>\n",
       "    </tr>\n",
       "  </thead>\n",
       "  <tbody>\n",
       "    <tr>\n",
       "      <th>0</th>\n",
       "      <td>08/08/2008</td>\n",
       "      <td>0</td>\n",
       "      <td>0.777588</td>\n",
       "      <td>...</td>\n",
       "      <td>-0.378355</td>\n",
       "      <td>-0.085252</td>\n",
       "      <td>0.367088</td>\n",
       "    </tr>\n",
       "    <tr>\n",
       "      <th>1</th>\n",
       "      <td>11/08/2008</td>\n",
       "      <td>1</td>\n",
       "      <td>0.803883</td>\n",
       "      <td>...</td>\n",
       "      <td>-0.264476</td>\n",
       "      <td>-0.040263</td>\n",
       "      <td>0.278750</td>\n",
       "    </tr>\n",
       "    <tr>\n",
       "      <th>2</th>\n",
       "      <td>12/08/2008</td>\n",
       "      <td>0</td>\n",
       "      <td>0.743821</td>\n",
       "      <td>...</td>\n",
       "      <td>-0.308568</td>\n",
       "      <td>-0.044608</td>\n",
       "      <td>0.320001</td>\n",
       "    </tr>\n",
       "    <tr>\n",
       "      <th>3</th>\n",
       "      <td>13/08/2008</td>\n",
       "      <td>0</td>\n",
       "      <td>0.804978</td>\n",
       "      <td>...</td>\n",
       "      <td>-0.351558</td>\n",
       "      <td>-0.085367</td>\n",
       "      <td>0.380866</td>\n",
       "    </tr>\n",
       "    <tr>\n",
       "      <th>4</th>\n",
       "      <td>14/08/2008</td>\n",
       "      <td>1</td>\n",
       "      <td>0.697719</td>\n",
       "      <td>...</td>\n",
       "      <td>-0.363178</td>\n",
       "      <td>-0.127334</td>\n",
       "      <td>0.325951</td>\n",
       "    </tr>\n",
       "  </tbody>\n",
       "</table>\n",
       "<p>5 rows × 102 columns</p>\n",
       "</div>"
      ],
      "text/plain": [
       "         Date  Label         0  ...        97        98        99\n",
       "0  08/08/2008      0  0.777588  ... -0.378355 -0.085252  0.367088\n",
       "1  11/08/2008      1  0.803883  ... -0.264476 -0.040263  0.278750\n",
       "2  12/08/2008      0  0.743821  ... -0.308568 -0.044608  0.320001\n",
       "3  13/08/2008      0  0.804978  ... -0.351558 -0.085367  0.380866\n",
       "4  14/08/2008      1  0.697719  ... -0.363178 -0.127334  0.325951\n",
       "\n",
       "[5 rows x 102 columns]"
      ]
     },
     "execution_count": 12,
     "metadata": {},
     "output_type": "execute_result"
    }
   ],
   "source": [
    "# New dataframe must have each vector dimension be its own column\n",
    "dataModel = dataVector.copy()\n",
    "dataModel = pd.merge(dataModel,dataModel.Average.apply(pd.Series),right_index=True,left_index=True)\n",
    "dataModel = dataModel.drop(columns=['Combined','Average'])\n",
    "\n",
    "print('dataModel is %d data points with %d features'%(dataModel.shape[0],dataModel.shape[1]))\n",
    "print('dataModel:')\n",
    "dataModel.head()"
   ]
  },
  {
   "cell_type": "code",
   "execution_count": 13,
   "metadata": {},
   "outputs": [],
   "source": [
    "# Extensions:\n",
    "## Parts of speech (POS)\n",
    "## Named entity recognition (NER)\n",
    "## Coreference resolution"
   ]
  },
  {
   "cell_type": "markdown",
   "metadata": {},
   "source": [
    "# Modeling"
   ]
  },
  {
   "cell_type": "markdown",
   "metadata": {},
   "source": [
    "### Train/test dataset splitting"
   ]
  },
  {
   "cell_type": "code",
   "execution_count": 14,
   "metadata": {
    "scrolled": true
   },
   "outputs": [
    {
     "name": "stdout",
     "output_type": "stream",
     "text": [
      "corresponding index of split date = 31/12/2014 is 1610\n",
      "\n",
      "X_train is 1610 data points, X_test is 379 data points, both with 100 features\n",
      "split ratio is training set: 80.9% to testing set: 19.1%\n"
     ]
    }
   ],
   "source": [
    "# split data into train/test sets by date\n",
    "splitDate = '31/12/2014'\n",
    "splitLoc = dataModel.index[dataModel['Date']==splitDate][0]\n",
    "print('corresponding index of split date = %s is %d'%(splitDate,splitLoc))\n",
    "\n",
    "X_train = dataModel.iloc[:splitLoc,:].drop(columns=['Date','Label'])\n",
    "X_test = dataModel.iloc[splitLoc:,:].drop(columns=['Date','Label'])\n",
    "y_train = dataModel.iloc[:splitLoc,:]['Label']\n",
    "y_test = dataModel.iloc[splitLoc:,:]['Label']\n",
    "\n",
    "print('\\nX_train is %d data points, X_test is %d data points, both with %d features'%(X_train.shape[0],X_test.shape[0],X_train.shape[1]))\n",
    "print('split ratio is training set: %.1f%% to testing set: %.1f%%'%(X_train.shape[0]/dataModel.shape[0]*100,X_test.shape[0]/dataModel.shape[0]*100))"
   ]
  },
  {
   "cell_type": "markdown",
   "metadata": {},
   "source": [
    "### Train and test models"
   ]
  },
  {
   "cell_type": "code",
   "execution_count": 15,
   "metadata": {},
   "outputs": [],
   "source": [
    "# plot ROC curve\n",
    "def ROCplot(modelType,y_test,y_score):\n",
    "    fpr, tpr, thresholds = roc_curve(y_test, y_score)\n",
    "    roc_auc = auc(fpr,tpr)\n",
    "    plt.title('Receiver Operating Characteristic for %s'%(modelType))\n",
    "    plt.plot(fpr, tpr, 'b', label='AUC = %0.2f'% roc_auc)\n",
    "    plt.legend(loc='lower right')\n",
    "    plt.plot([0,1],[0,1],'r--')\n",
    "    plt.ylabel('True Positive Rate')\n",
    "    plt.xlabel('False Positive Rate')\n",
    "    plt.show()\n",
    "\n",
    "models = ['RF','XGB','LogReg','SVC','MLP']\n",
    "    \n",
    "def predModel(X_train, y_train, X_test, y_test, modelType=models[0]):\n",
    "    if modelType not in models:\n",
    "        print('Error: model not in predefined list')\n",
    "        return\n",
    "    \n",
    "    start_time = time.time()\n",
    "    if modelType == models[0]:\n",
    "        rf = RandomForestClassifier(n_jobs=2, random_state=0)\n",
    "        rf.fit(X_train, y_train)        \n",
    "        end_time = time.time()\n",
    "        # predict for X_test\n",
    "        y_pred = rf.predict(X_test)\n",
    "        # predict probabilities for test data\n",
    "        ## keep probabilities for positive class only\n",
    "        y_score = rf.predict_proba(X_test)[:,1]\n",
    "        \n",
    "    elif modelType == models[1]:\n",
    "        xgb = XGBClassifier(objective = 'binary:logistic')\n",
    "        xgb.fit(X_train, y_train)\n",
    "        end_time = time.time()\n",
    "        # predict for X_test\n",
    "        y_pred = xgb.predict(X_test)\n",
    "        # predict probabilities for test data\n",
    "        ## keep probabilities for positive class only\n",
    "        y_score = xgb.predict_proba(X_test)[:,1]\n",
    "        \n",
    "    elif modelType == models[2]:\n",
    "        lg = LogisticRegression(penalty='l1', C=1.5, solver='liblinear', max_iter=100, n_jobs=-1)\n",
    "        lg.fit(X_train, y_train)\n",
    "        end_time = time.time()        \n",
    "        # predict for X_test\n",
    "        y_pred = lg.predict(X_test)\n",
    "        # predict probabilities for test data\n",
    "        y_score = lg.decision_function(X_test)\n",
    "        \n",
    "    elif modelType == models[3]:\n",
    "        clf = SVC(gamma='auto')\n",
    "        clf.fit(X_train, y_train)\n",
    "        end_time = time.time()\n",
    "        # predict for X_test\n",
    "        y_pred = clf.predict(X_test)\n",
    "        # predict probabilities for test data\n",
    "        y_score = clf.decision_function(X_test)\n",
    "        \n",
    "    elif modelType == models[4]:\n",
    "        clf = MLPClassifier(solver='lbfgs', alpha=1e-5, hidden_layer_sizes=(5, 2), random_state=1)\n",
    "        clf.fit(X_train, y_train)\n",
    "        end_time = time.time()\n",
    "        # predict for X_test\n",
    "        y_pred = clf.predict(X_test)\n",
    "        # predict probabilities for test data\n",
    "        ## keep probabilities for positive class only\n",
    "        y_score = clf.predict_proba(X_test)[:,1]\n",
    "    \n",
    "    print('Accuracy for model %s is: %.2f'%(modelType,accuracy_score(y_test,y_pred)))\n",
    "    print('ROC AUC for model %s is: %.2f'%(modelType,roc_auc_score(y_test, y_pred)))\n",
    "    print('Model training time is %.3f seconds'%(end_time-start_time))\n",
    "    print('\\nConfusion matrix:')\n",
    "    print(confusion_matrix(y_test,y_pred))\n",
    "    ROCplot(modelType,y_test,y_score)   "
   ]
  },
  {
   "cell_type": "code",
   "execution_count": 16,
   "metadata": {},
   "outputs": [
    {
     "name": "stdout",
     "output_type": "stream",
     "text": [
      "Accuracy for model RF is: 0.47\n",
      "ROC AUC for model RF is: 0.47\n",
      "Model training time is 0.542 seconds\n",
      "\n",
      "Confusion matrix:\n",
      "[[ 55 132]\n",
      " [ 68 124]]\n"
     ]
    },
    {
     "data": {
      "image/png": "[encoded data removed]",
      "text/plain": [
       "<Figure size 432x288 with 1 Axes>"
      ]
     },
     "metadata": {
      "needs_background": "light"
     },
     "output_type": "display_data"
    }
   ],
   "source": [
    "predModel(X_train, y_train, X_test, y_test, modelType='RF')"
   ]
  },
  {
   "cell_type": "code",
   "execution_count": 17,
   "metadata": {},
   "outputs": [
    {
     "name": "stdout",
     "output_type": "stream",
     "text": [
      "Accuracy for model XGB is: 0.49\n",
      "ROC AUC for model XGB is: 0.49\n",
      "Model training time is 1.236 seconds\n",
      "\n",
      "Confusion matrix:\n",
      "[[ 51 136]\n",
      " [ 56 136]]\n"
     ]
    },
    {
     "data": {
      "image/png": "[encoded data removed]",
      "text/plain": [
       "<Figure size 432x288 with 1 Axes>"
      ]
     },
     "metadata": {
      "needs_background": "light"
     },
     "output_type": "display_data"
    }
   ],
   "source": [
    "predModel(X_train, y_train, X_test, y_test, modelType='XGB')"
   ]
  },
  {
   "cell_type": "code",
   "execution_count": 18,
   "metadata": {},
   "outputs": [
    {
     "name": "stdout",
     "output_type": "stream",
     "text": [
      "Accuracy for model LogReg is: 0.51\n",
      "ROC AUC for model LogReg is: 0.50\n",
      "Model training time is 0.014 seconds\n",
      "\n",
      "Confusion matrix:\n",
      "[[  0 187]\n",
      " [  0 192]]\n"
     ]
    },
    {
     "name": "stderr",
     "output_type": "stream",
     "text": [
      "//anaconda3/lib/python3.7/site-packages/sklearn/linear_model/_logistic.py:1537: UserWarning: 'n_jobs' > 1 does not have any effect when 'solver' is set to 'liblinear'. Got 'n_jobs' = 12.\n",
      "  \" = {}.\".format(effective_n_jobs(self.n_jobs)))\n"
     ]
    },
    {
     "data": {
      "image/png": "[encoded data removed]",
      "text/plain": [
       "<Figure size 432x288 with 1 Axes>"
      ]
     },
     "metadata": {
      "needs_background": "light"
     },
     "output_type": "display_data"
    }
   ],
   "source": [
    "predModel(X_train, y_train, X_test, y_test, modelType='LogReg')"
   ]
  },
  {
   "cell_type": "code",
   "execution_count": 19,
   "metadata": {},
   "outputs": [
    {
     "name": "stdout",
     "output_type": "stream",
     "text": [
      "Accuracy for model SVC is: 0.51\n",
      "ROC AUC for model SVC is: 0.50\n",
      "Model training time is 0.291 seconds\n",
      "\n",
      "Confusion matrix:\n",
      "[[  0 187]\n",
      " [  0 192]]\n"
     ]
    },
    {
     "data": {
      "image/png": "[encoded data removed]",
      "text/plain": [
       "<Figure size 432x288 with 1 Axes>"
      ]
     },
     "metadata": {
      "needs_background": "light"
     },
     "output_type": "display_data"
    }
   ],
   "source": [
    "predModel(X_train, y_train, X_test, y_test, modelType='SVC')"
   ]
  },
  {
   "cell_type": "code",
   "execution_count": 20,
   "metadata": {},
   "outputs": [
    {
     "name": "stdout",
     "output_type": "stream",
     "text": [
      "Accuracy for model MLP is: 0.51\n",
      "ROC AUC for model MLP is: 0.50\n",
      "Model training time is 0.030 seconds\n",
      "\n",
      "Confusion matrix:\n",
      "[[  0 187]\n",
      " [  0 192]]\n"
     ]
    },
    {
     "data": {
      "image/png": "[encoded data removed]",
      "text/plain": [
       "<Figure size 432x288 with 1 Axes>"
      ]
     },
     "metadata": {
      "needs_background": "light"
     },
     "output_type": "display_data"
    }
   ],
   "source": [
    "predModel(X_train, y_train, X_test, y_test, modelType='MLP')"
   ]
  },
  {
   "cell_type": "markdown",
   "metadata": {},
   "source": [
    "### print output"
   ]
  }
 ],
 "metadata": {
  "kernelspec": {
   "display_name": "Python 3",
   "language": "python",
   "name": "python3"
  },
  "language_info": {
   "codemirror_mode": {
    "name": "ipython",
    "version": 3
   },
   "file_extension": ".py",
   "mimetype": "text/x-python",
   "name": "python",
   "nbconvert_exporter": "python",
   "pygments_lexer": "ipython3",
   "version": "3.7.3"
  }
 },
 "nbformat": 4,
 "nbformat_minor": 2
}
